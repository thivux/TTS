{
 "cells": [
  {
   "cell_type": "markdown",
   "metadata": {},
   "source": [
    "### use fixed data? \n",
    "- [ ] yes\n",
    "- [x] no \n",
    "\n",
    "the fixed file still contains corrupted data :)"
   ]
  },
  {
   "cell_type": "code",
   "execution_count": 14,
   "metadata": {},
   "outputs": [
    {
     "data": {
      "text/plain": [
       "(3783779, 3783779)"
      ]
     },
     "execution_count": 14,
     "metadata": {},
     "output_type": "execute_result"
    }
   ],
   "source": [
    "fixed_path = 'VIN27/combined_audio_data_fixed.csv'\n",
    "not_fixed_path = 'VIN27/combined_audio_data.csv'\n",
    "\n",
    "with open(fixed_path, 'r') as f: \n",
    "    fixed_data = [line.strip() for line in f.readlines()]\n",
    "\n",
    "with open(not_fixed_path, 'r') as f: \n",
    "    not_fixed_data = [line.strip() for line in f.readlines()]\n",
    "\n",
    "len(fixed_data), len(not_fixed_data)"
   ]
  },
  {
   "cell_type": "code",
   "execution_count": 17,
   "metadata": {},
   "outputs": [
    {
     "name": "stdout",
     "output_type": "stream",
     "text": [
      "binh-đinh/0971972/195.wav,binh-đinh,binh-đinh_0971972,3.552\n",
      "binh-đinh/0971972/195.wav,binh-đinh,binh-đinh_0971972,3.552\n"
     ]
    }
   ],
   "source": [
    "print(fixed_data[0])\n",
    "print(not_fixed_data[0])"
   ]
  },
  {
   "cell_type": "code",
   "execution_count": 22,
   "metadata": {},
   "outputs": [
    {
     "name": "stdout",
     "output_type": "stream",
     "text": [
      "356784\n",
      "00/100.wav,hai-duong,hai-duong_3644500,4.544\n",
      "hai-duong/3644500/100.wav,hai-duong,hai-duong_3644500,4.544\n",
      "---------\n",
      "356786\n",
      "\u0000\u0000\u0000\u0000\u0000\u0000\u0000\u0000Ѷ\u0000\u0000hai-duong/3633104/131.wav,hai-duong,hai-duong_3633104,2.976\n",
      "hai-duong/3633104/131.wav,hai-duong,hai-duong_3633104,2.976\n",
      "---------\n"
     ]
    }
   ],
   "source": [
    "for i, (fixed, not_fixed) in enumerate(zip(fixed_data, not_fixed_data)): \n",
    "    if fixed != not_fixed:\n",
    "        print(i)\n",
    "        print(fixed)\n",
    "        print(not_fixed)\n",
    "        print('---------')"
   ]
  },
  {
   "cell_type": "markdown",
   "metadata": {},
   "source": [
    "### get short audio data"
   ]
  },
  {
   "cell_type": "code",
   "execution_count": 1,
   "metadata": {},
   "outputs": [
    {
     "data": {
      "text/plain": [
       "(3783779, 4)"
      ]
     },
     "execution_count": 1,
     "metadata": {},
     "output_type": "execute_result"
    }
   ],
   "source": [
    "import pandas as pd\n",
    "\n",
    "file1 = 'VIN27/combined_audio_data.csv'\n",
    "file2 = 'VIN27/combined_audio_data_filtered_3s.csv'\n",
    "output_file = 'VIN27/short_files.csv'\n",
    "\n",
    "full_df = pd.read_csv(file1, names=['path', 'province', 'speaker', 'duration'])\n",
    "full_df.shape"
   ]
  },
  {
   "cell_type": "code",
   "execution_count": 4,
   "metadata": {},
   "outputs": [
    {
     "data": {
      "text/html": [
       "<div>\n",
       "<style scoped>\n",
       "    .dataframe tbody tr th:only-of-type {\n",
       "        vertical-align: middle;\n",
       "    }\n",
       "\n",
       "    .dataframe tbody tr th {\n",
       "        vertical-align: top;\n",
       "    }\n",
       "\n",
       "    .dataframe thead th {\n",
       "        text-align: right;\n",
       "    }\n",
       "</style>\n",
       "<table border=\"1\" class=\"dataframe\">\n",
       "  <thead>\n",
       "    <tr style=\"text-align: right;\">\n",
       "      <th></th>\n",
       "      <th>path</th>\n",
       "      <th>province</th>\n",
       "      <th>speaker</th>\n",
       "      <th>duration</th>\n",
       "    </tr>\n",
       "  </thead>\n",
       "  <tbody>\n",
       "    <tr>\n",
       "      <th>0</th>\n",
       "      <td>binh-đinh/0971972/195.wav</td>\n",
       "      <td>binh-đinh</td>\n",
       "      <td>binh-đinh_0971972</td>\n",
       "      <td>3.552</td>\n",
       "    </tr>\n",
       "    <tr>\n",
       "      <th>1</th>\n",
       "      <td>binh-đinh/0971972/125.wav</td>\n",
       "      <td>binh-đinh</td>\n",
       "      <td>binh-đinh_0971972</td>\n",
       "      <td>3.232</td>\n",
       "    </tr>\n",
       "    <tr>\n",
       "      <th>2</th>\n",
       "      <td>binh-đinh/0971972/089.wav</td>\n",
       "      <td>binh-đinh</td>\n",
       "      <td>binh-đinh_0971972</td>\n",
       "      <td>3.744</td>\n",
       "    </tr>\n",
       "    <tr>\n",
       "      <th>3</th>\n",
       "      <td>binh-đinh/0971972/072.wav</td>\n",
       "      <td>binh-đinh</td>\n",
       "      <td>binh-đinh_0971972</td>\n",
       "      <td>2.816</td>\n",
       "    </tr>\n",
       "    <tr>\n",
       "      <th>4</th>\n",
       "      <td>binh-đinh/0971972/181.wav</td>\n",
       "      <td>binh-đinh</td>\n",
       "      <td>binh-đinh_0971972</td>\n",
       "      <td>3.968</td>\n",
       "    </tr>\n",
       "  </tbody>\n",
       "</table>\n",
       "</div>"
      ],
      "text/plain": [
       "                        path   province            speaker  duration\n",
       "0  binh-đinh/0971972/195.wav  binh-đinh  binh-đinh_0971972     3.552\n",
       "1  binh-đinh/0971972/125.wav  binh-đinh  binh-đinh_0971972     3.232\n",
       "2  binh-đinh/0971972/089.wav  binh-đinh  binh-đinh_0971972     3.744\n",
       "3  binh-đinh/0971972/072.wav  binh-đinh  binh-đinh_0971972     2.816\n",
       "4  binh-đinh/0971972/181.wav  binh-đinh  binh-đinh_0971972     3.968"
      ]
     },
     "execution_count": 4,
     "metadata": {},
     "output_type": "execute_result"
    }
   ],
   "source": [
    "full_df.head()"
   ]
  },
  {
   "cell_type": "code",
   "execution_count": 2,
   "metadata": {},
   "outputs": [
    {
     "data": {
      "text/plain": [
       "path        hai-duong/3644500/100.wav\n",
       "province                    hai-duong\n",
       "speaker             hai-duong_3644500\n",
       "duration                        4.544\n",
       "Name: 356784, dtype: object"
      ]
     },
     "execution_count": 2,
     "metadata": {},
     "output_type": "execute_result"
    }
   ],
   "source": [
    "full_df.iloc[356784]"
   ]
  },
  {
   "cell_type": "code",
   "execution_count": 6,
   "metadata": {},
   "outputs": [
    {
     "name": "stdout",
     "output_type": "stream",
     "text": [
      "(3535394, 4)\n"
     ]
    },
    {
     "data": {
      "text/plain": [
       "4365.242030972221"
      ]
     },
     "execution_count": 6,
     "metadata": {},
     "output_type": "execute_result"
    }
   ],
   "source": [
    "short = full_df[full_df['duration'] < 3]\n",
    "print(short.shape)\n",
    "short['duration'].sum() / 3600"
   ]
  },
  {
   "cell_type": "markdown",
   "metadata": {},
   "source": [
    "debug "
   ]
  },
  {
   "cell_type": "code",
   "execution_count": 20,
   "metadata": {},
   "outputs": [
    {
     "name": "stdout",
     "output_type": "stream",
     "text": [
      "(3535394, 4)\n"
     ]
    },
    {
     "data": {
      "text/html": [
       "<div>\n",
       "<style scoped>\n",
       "    .dataframe tbody tr th:only-of-type {\n",
       "        vertical-align: middle;\n",
       "    }\n",
       "\n",
       "    .dataframe tbody tr th {\n",
       "        vertical-align: top;\n",
       "    }\n",
       "\n",
       "    .dataframe thead th {\n",
       "        text-align: right;\n",
       "    }\n",
       "</style>\n",
       "<table border=\"1\" class=\"dataframe\">\n",
       "  <thead>\n",
       "    <tr style=\"text-align: right;\">\n",
       "      <th></th>\n",
       "      <th>path</th>\n",
       "      <th>province</th>\n",
       "      <th>speaker</th>\n",
       "      <th>duration</th>\n",
       "    </tr>\n",
       "  </thead>\n",
       "  <tbody>\n",
       "    <tr>\n",
       "      <th>0</th>\n",
       "      <td>binh-đinh/0971972/195.wav</td>\n",
       "      <td>binh-đinh</td>\n",
       "      <td>binh-đinh_0971972</td>\n",
       "      <td>3.552</td>\n",
       "    </tr>\n",
       "    <tr>\n",
       "      <th>1</th>\n",
       "      <td>binh-đinh/0971972/125.wav</td>\n",
       "      <td>binh-đinh</td>\n",
       "      <td>binh-đinh_0971972</td>\n",
       "      <td>3.232</td>\n",
       "    </tr>\n",
       "    <tr>\n",
       "      <th>2</th>\n",
       "      <td>binh-đinh/0971972/089.wav</td>\n",
       "      <td>binh-đinh</td>\n",
       "      <td>binh-đinh_0971972</td>\n",
       "      <td>3.744</td>\n",
       "    </tr>\n",
       "    <tr>\n",
       "      <th>4</th>\n",
       "      <td>binh-đinh/0971972/181.wav</td>\n",
       "      <td>binh-đinh</td>\n",
       "      <td>binh-đinh_0971972</td>\n",
       "      <td>3.968</td>\n",
       "    </tr>\n",
       "    <tr>\n",
       "      <th>5</th>\n",
       "      <td>binh-đinh/0971972/044.wav</td>\n",
       "      <td>binh-đinh</td>\n",
       "      <td>binh-đinh_0971972</td>\n",
       "      <td>3.456</td>\n",
       "    </tr>\n",
       "  </tbody>\n",
       "</table>\n",
       "</div>"
      ],
      "text/plain": [
       "                        path   province            speaker  duration\n",
       "0  binh-đinh/0971972/195.wav  binh-đinh  binh-đinh_0971972     3.552\n",
       "1  binh-đinh/0971972/125.wav  binh-đinh  binh-đinh_0971972     3.232\n",
       "2  binh-đinh/0971972/089.wav  binh-đinh  binh-đinh_0971972     3.744\n",
       "4  binh-đinh/0971972/181.wav  binh-đinh  binh-đinh_0971972     3.968\n",
       "5  binh-đinh/0971972/044.wav  binh-đinh  binh-đinh_0971972     3.456"
      ]
     },
     "execution_count": 20,
     "metadata": {},
     "output_type": "execute_result"
    }
   ],
   "source": [
    "long = full_df[full_df['duration'] >= 3]\n",
    "print(long.shape)\n",
    "long.head()"
   ]
  },
  {
   "cell_type": "code",
   "execution_count": 16,
   "metadata": {},
   "outputs": [
    {
     "data": {
      "text/plain": [
       "(3535379, 4)"
      ]
     },
     "execution_count": 16,
     "metadata": {},
     "output_type": "execute_result"
    }
   ],
   "source": [
    "long_old = pd.read_csv('VIN27/combined_audio_data_filtered_3s.csv', delimiter='|')\n",
    "long_old.shape"
   ]
  },
  {
   "cell_type": "code",
   "execution_count": 17,
   "metadata": {},
   "outputs": [
    {
     "data": {
      "text/html": [
       "<div>\n",
       "<style scoped>\n",
       "    .dataframe tbody tr th:only-of-type {\n",
       "        vertical-align: middle;\n",
       "    }\n",
       "\n",
       "    .dataframe tbody tr th {\n",
       "        vertical-align: top;\n",
       "    }\n",
       "\n",
       "    .dataframe thead th {\n",
       "        text-align: right;\n",
       "    }\n",
       "</style>\n",
       "<table border=\"1\" class=\"dataframe\">\n",
       "  <thead>\n",
       "    <tr style=\"text-align: right;\">\n",
       "      <th></th>\n",
       "      <th>file_path</th>\n",
       "      <th>province</th>\n",
       "      <th>speaker</th>\n",
       "      <th>duration</th>\n",
       "    </tr>\n",
       "  </thead>\n",
       "  <tbody>\n",
       "    <tr>\n",
       "      <th>0</th>\n",
       "      <td>binh-đinh/0971972/195.wav</td>\n",
       "      <td>binh-đinh</td>\n",
       "      <td>binh-đinh_0971972</td>\n",
       "      <td>3.552</td>\n",
       "    </tr>\n",
       "    <tr>\n",
       "      <th>1</th>\n",
       "      <td>binh-đinh/0971972/125.wav</td>\n",
       "      <td>binh-đinh</td>\n",
       "      <td>binh-đinh_0971972</td>\n",
       "      <td>3.232</td>\n",
       "    </tr>\n",
       "    <tr>\n",
       "      <th>2</th>\n",
       "      <td>binh-đinh/0971972/089.wav</td>\n",
       "      <td>binh-đinh</td>\n",
       "      <td>binh-đinh_0971972</td>\n",
       "      <td>3.744</td>\n",
       "    </tr>\n",
       "    <tr>\n",
       "      <th>3</th>\n",
       "      <td>binh-đinh/0971972/181.wav</td>\n",
       "      <td>binh-đinh</td>\n",
       "      <td>binh-đinh_0971972</td>\n",
       "      <td>3.968</td>\n",
       "    </tr>\n",
       "    <tr>\n",
       "      <th>4</th>\n",
       "      <td>binh-đinh/0971972/044.wav</td>\n",
       "      <td>binh-đinh</td>\n",
       "      <td>binh-đinh_0971972</td>\n",
       "      <td>3.456</td>\n",
       "    </tr>\n",
       "  </tbody>\n",
       "</table>\n",
       "</div>"
      ],
      "text/plain": [
       "                   file_path   province            speaker  duration\n",
       "0  binh-đinh/0971972/195.wav  binh-đinh  binh-đinh_0971972     3.552\n",
       "1  binh-đinh/0971972/125.wav  binh-đinh  binh-đinh_0971972     3.232\n",
       "2  binh-đinh/0971972/089.wav  binh-đinh  binh-đinh_0971972     3.744\n",
       "3  binh-đinh/0971972/181.wav  binh-đinh  binh-đinh_0971972     3.968\n",
       "4  binh-đinh/0971972/044.wav  binh-đinh  binh-đinh_0971972     3.456"
      ]
     },
     "execution_count": 17,
     "metadata": {},
     "output_type": "execute_result"
    }
   ],
   "source": [
    "long_old.head()"
   ]
  },
  {
   "cell_type": "code",
   "execution_count": 24,
   "metadata": {},
   "outputs": [
    {
     "data": {
      "text/html": [
       "<div>\n",
       "<style scoped>\n",
       "    .dataframe tbody tr th:only-of-type {\n",
       "        vertical-align: middle;\n",
       "    }\n",
       "\n",
       "    .dataframe tbody tr th {\n",
       "        vertical-align: top;\n",
       "    }\n",
       "\n",
       "    .dataframe thead th {\n",
       "        text-align: right;\n",
       "    }\n",
       "</style>\n",
       "<table border=\"1\" class=\"dataframe\">\n",
       "  <thead>\n",
       "    <tr style=\"text-align: right;\">\n",
       "      <th></th>\n",
       "      <th>path</th>\n",
       "      <th>province</th>\n",
       "      <th>speaker</th>\n",
       "      <th>duration</th>\n",
       "    </tr>\n",
       "  </thead>\n",
       "  <tbody>\n",
       "    <tr>\n",
       "      <th>67155</th>\n",
       "      <td>NaN</td>\n",
       "      <td>hau-giang</td>\n",
       "      <td>hau-giang_3511048</td>\n",
       "      <td>6.112</td>\n",
       "    </tr>\n",
       "    <tr>\n",
       "      <th>210246</th>\n",
       "      <td>NaN</td>\n",
       "      <td>quang-binh</td>\n",
       "      <td>quang-binh_0938052</td>\n",
       "      <td>5.568</td>\n",
       "    </tr>\n",
       "    <tr>\n",
       "      <th>283325</th>\n",
       "      <td>NaN</td>\n",
       "      <td>ha-tinh</td>\n",
       "      <td>ha-tinh_3500932</td>\n",
       "      <td>3.072</td>\n",
       "    </tr>\n",
       "    <tr>\n",
       "      <th>425577</th>\n",
       "      <td>g/3638302/062.wav</td>\n",
       "      <td>hai-duong</td>\n",
       "      <td>hai-duong_3638302</td>\n",
       "      <td>3.552</td>\n",
       "    </tr>\n",
       "    <tr>\n",
       "      <th>425578</th>\n",
       "      <td>NaN</td>\n",
       "      <td>hai-duong</td>\n",
       "      <td>hai-duong_0350057</td>\n",
       "      <td>6.048</td>\n",
       "    </tr>\n",
       "    <tr>\n",
       "      <th>500600</th>\n",
       "      <td>NaN</td>\n",
       "      <td>ha-nam</td>\n",
       "      <td>ha-nam_3521495</td>\n",
       "      <td>3.872</td>\n",
       "    </tr>\n",
       "    <tr>\n",
       "      <th>883373</th>\n",
       "      <td>NaN</td>\n",
       "      <td>ho-chi-minh</td>\n",
       "      <td>ho-chi-minh_3648746</td>\n",
       "      <td>4.640</td>\n",
       "    </tr>\n",
       "    <tr>\n",
       "      <th>951206</th>\n",
       "      <td>NaN</td>\n",
       "      <td>hung-yen</td>\n",
       "      <td>hung-yen_3550808</td>\n",
       "      <td>4.672</td>\n",
       "    </tr>\n",
       "    <tr>\n",
       "      <th>1297492</th>\n",
       "      <td>NaN</td>\n",
       "      <td>khanh-hoa</td>\n",
       "      <td>khanh-hoa_0010056</td>\n",
       "      <td>4.224</td>\n",
       "    </tr>\n",
       "    <tr>\n",
       "      <th>1502744</th>\n",
       "      <td>NaN</td>\n",
       "      <td>hai-phong</td>\n",
       "      <td>hai-phong_0367153</td>\n",
       "      <td>4.320</td>\n",
       "    </tr>\n",
       "    <tr>\n",
       "      <th>1571496</th>\n",
       "      <td>NaN</td>\n",
       "      <td>hai-phong</td>\n",
       "      <td>hai-phong_3550205</td>\n",
       "      <td>3.680</td>\n",
       "    </tr>\n",
       "    <tr>\n",
       "      <th>1779901</th>\n",
       "      <td>NaN</td>\n",
       "      <td>thai-nguyen</td>\n",
       "      <td>thai-nguyen_3641072</td>\n",
       "      <td>4.704</td>\n",
       "    </tr>\n",
       "    <tr>\n",
       "      <th>1849097</th>\n",
       "      <td>NaN</td>\n",
       "      <td>an-giang</td>\n",
       "      <td>an-giang_3508176</td>\n",
       "      <td>4.384</td>\n",
       "    </tr>\n",
       "    <tr>\n",
       "      <th>1918197</th>\n",
       "      <td>NaN</td>\n",
       "      <td>nam-đinh</td>\n",
       "      <td>nam-đinh_3644383</td>\n",
       "      <td>4.768</td>\n",
       "    </tr>\n",
       "    <tr>\n",
       "      <th>1987349</th>\n",
       "      <td>NaN</td>\n",
       "      <td>yen-bai</td>\n",
       "      <td>yen-bai_0984188</td>\n",
       "      <td>3.744</td>\n",
       "    </tr>\n",
       "    <tr>\n",
       "      <th>2336563</th>\n",
       "      <td>NaN</td>\n",
       "      <td>thanh-hoa</td>\n",
       "      <td>thanh-hoa_0995596</td>\n",
       "      <td>4.256</td>\n",
       "    </tr>\n",
       "  </tbody>\n",
       "</table>\n",
       "</div>"
      ],
      "text/plain": [
       "                      path     province              speaker  duration\n",
       "67155                  NaN    hau-giang    hau-giang_3511048     6.112\n",
       "210246                 NaN   quang-binh   quang-binh_0938052     5.568\n",
       "283325                 NaN      ha-tinh      ha-tinh_3500932     3.072\n",
       "425577   g/3638302/062.wav    hai-duong    hai-duong_3638302     3.552\n",
       "425578                 NaN    hai-duong    hai-duong_0350057     6.048\n",
       "500600                 NaN       ha-nam       ha-nam_3521495     3.872\n",
       "883373                 NaN  ho-chi-minh  ho-chi-minh_3648746     4.640\n",
       "951206                 NaN     hung-yen     hung-yen_3550808     4.672\n",
       "1297492                NaN    khanh-hoa    khanh-hoa_0010056     4.224\n",
       "1502744                NaN    hai-phong    hai-phong_0367153     4.320\n",
       "1571496                NaN    hai-phong    hai-phong_3550205     3.680\n",
       "1779901                NaN  thai-nguyen  thai-nguyen_3641072     4.704\n",
       "1849097                NaN     an-giang     an-giang_3508176     4.384\n",
       "1918197                NaN     nam-đinh     nam-đinh_3644383     4.768\n",
       "1987349                NaN      yen-bai      yen-bai_0984188     3.744\n",
       "2336563                NaN    thanh-hoa    thanh-hoa_0995596     4.256"
      ]
     },
     "execution_count": 24,
     "metadata": {},
     "output_type": "execute_result"
    }
   ],
   "source": [
    "long[~long['path'].isin(long_old['file_path'])]"
   ]
  },
  {
   "cell_type": "code",
   "execution_count": 25,
   "metadata": {},
   "outputs": [
    {
     "data": {
      "text/plain": [
       "path        soc-trang/3649286/014.wav\n",
       "province                    soc-trang\n",
       "speaker             soc-trang_3649286\n",
       "duration                        5.312\n",
       "Name: 225750, dtype: object"
      ]
     },
     "execution_count": 25,
     "metadata": {},
     "output_type": "execute_result"
    }
   ],
   "source": [
    "long.iloc[210245]"
   ]
  },
  {
   "cell_type": "code",
   "execution_count": 30,
   "metadata": {},
   "outputs": [
    {
     "name": "stdout",
     "output_type": "stream",
     "text": [
      "67155 nan\n",
      "210246 nan\n",
      "283325 nan\n",
      "425577 g/3638302/062.wav\n",
      "425578 nan\n",
      "500600 nan\n",
      "883373 nan\n",
      "951206 nan\n",
      "1297492 nan\n",
      "1502744 nan\n",
      "1571496 nan\n",
      "1779901 nan\n",
      "1849097 nan\n",
      "1918197 nan\n",
      "1987349 nan\n",
      "2336563 nan\n"
     ]
    },
    {
     "ename": "KeyboardInterrupt",
     "evalue": "",
     "output_type": "error",
     "traceback": [
      "\u001b[0;31m---------------------------------------------------------------------------\u001b[0m",
      "\u001b[0;31mKeyboardInterrupt\u001b[0m                         Traceback (most recent call last)",
      "Cell \u001b[0;32mIn[30], line 3\u001b[0m\n\u001b[1;32m      1\u001b[0m long_old_set \u001b[38;5;241m=\u001b[39m \u001b[38;5;28mset\u001b[39m(long_old[\u001b[38;5;124m'\u001b[39m\u001b[38;5;124mfile_path\u001b[39m\u001b[38;5;124m'\u001b[39m])\n\u001b[1;32m      2\u001b[0m \u001b[38;5;28;01mfor\u001b[39;00m i, row \u001b[38;5;129;01min\u001b[39;00m long\u001b[38;5;241m.\u001b[39miterrows():\n\u001b[0;32m----> 3\u001b[0m     \u001b[38;5;28;01mif\u001b[39;00m \u001b[43mrow\u001b[49m\u001b[43m[\u001b[49m\u001b[38;5;124;43m'\u001b[39;49m\u001b[38;5;124;43mpath\u001b[39;49m\u001b[38;5;124;43m'\u001b[39;49m\u001b[43m]\u001b[49m \u001b[38;5;129;01mnot\u001b[39;00m \u001b[38;5;129;01min\u001b[39;00m long_old_set:\n\u001b[1;32m      4\u001b[0m         \u001b[38;5;28mprint\u001b[39m(i, row[\u001b[38;5;124m'\u001b[39m\u001b[38;5;124mpath\u001b[39m\u001b[38;5;124m'\u001b[39m])\n",
      "File \u001b[0;32m~/miniconda3/envs/fuck2/lib/python3.10/site-packages/pandas/core/series.py:981\u001b[0m, in \u001b[0;36mSeries.__getitem__\u001b[0;34m(self, key)\u001b[0m\n\u001b[1;32m    978\u001b[0m     \u001b[38;5;28;01mreturn\u001b[39;00m \u001b[38;5;28mself\u001b[39m\u001b[38;5;241m.\u001b[39m_values[key]\n\u001b[1;32m    980\u001b[0m \u001b[38;5;28;01melif\u001b[39;00m key_is_scalar:\n\u001b[0;32m--> 981\u001b[0m     \u001b[38;5;28;01mreturn\u001b[39;00m \u001b[38;5;28;43mself\u001b[39;49m\u001b[38;5;241;43m.\u001b[39;49m\u001b[43m_get_value\u001b[49m\u001b[43m(\u001b[49m\u001b[43mkey\u001b[49m\u001b[43m)\u001b[49m\n\u001b[1;32m    983\u001b[0m \u001b[38;5;28;01mif\u001b[39;00m is_hashable(key):\n\u001b[1;32m    984\u001b[0m     \u001b[38;5;66;03m# Otherwise index.get_value will raise InvalidIndexError\u001b[39;00m\n\u001b[1;32m    985\u001b[0m     \u001b[38;5;28;01mtry\u001b[39;00m:\n\u001b[1;32m    986\u001b[0m         \u001b[38;5;66;03m# For labels that don't resolve as scalars like tuples and frozensets\u001b[39;00m\n",
      "File \u001b[0;32m~/miniconda3/envs/fuck2/lib/python3.10/site-packages/pandas/core/series.py:1089\u001b[0m, in \u001b[0;36mSeries._get_value\u001b[0;34m(self, label, takeable)\u001b[0m\n\u001b[1;32m   1086\u001b[0m     \u001b[38;5;28;01mreturn\u001b[39;00m \u001b[38;5;28mself\u001b[39m\u001b[38;5;241m.\u001b[39m_values[label]\n\u001b[1;32m   1088\u001b[0m \u001b[38;5;66;03m# Similar to Index.get_value, but we do not fall back to positional\u001b[39;00m\n\u001b[0;32m-> 1089\u001b[0m loc \u001b[38;5;241m=\u001b[39m \u001b[38;5;28;43mself\u001b[39;49m\u001b[38;5;241;43m.\u001b[39;49m\u001b[43mindex\u001b[49m\u001b[38;5;241;43m.\u001b[39;49m\u001b[43mget_loc\u001b[49m\u001b[43m(\u001b[49m\u001b[43mlabel\u001b[49m\u001b[43m)\u001b[49m\n\u001b[1;32m   1090\u001b[0m \u001b[38;5;28;01mreturn\u001b[39;00m \u001b[38;5;28mself\u001b[39m\u001b[38;5;241m.\u001b[39mindex\u001b[38;5;241m.\u001b[39m_get_values_for_loc(\u001b[38;5;28mself\u001b[39m, loc, label)\n",
      "File \u001b[0;32m~/miniconda3/envs/fuck2/lib/python3.10/site-packages/pandas/core/indexes/base.py:3802\u001b[0m, in \u001b[0;36mIndex.get_loc\u001b[0;34m(self, key, method, tolerance)\u001b[0m\n\u001b[1;32m   3800\u001b[0m casted_key \u001b[38;5;241m=\u001b[39m \u001b[38;5;28mself\u001b[39m\u001b[38;5;241m.\u001b[39m_maybe_cast_indexer(key)\n\u001b[1;32m   3801\u001b[0m \u001b[38;5;28;01mtry\u001b[39;00m:\n\u001b[0;32m-> 3802\u001b[0m     \u001b[38;5;28;01mreturn\u001b[39;00m \u001b[38;5;28;43mself\u001b[39;49m\u001b[38;5;241;43m.\u001b[39;49m\u001b[43m_engine\u001b[49m\u001b[38;5;241;43m.\u001b[39;49m\u001b[43mget_loc\u001b[49m\u001b[43m(\u001b[49m\u001b[43mcasted_key\u001b[49m\u001b[43m)\u001b[49m\n\u001b[1;32m   3803\u001b[0m \u001b[38;5;28;01mexcept\u001b[39;00m \u001b[38;5;167;01mKeyError\u001b[39;00m \u001b[38;5;28;01mas\u001b[39;00m err:\n\u001b[1;32m   3804\u001b[0m     \u001b[38;5;28;01mraise\u001b[39;00m \u001b[38;5;167;01mKeyError\u001b[39;00m(key) \u001b[38;5;28;01mfrom\u001b[39;00m \u001b[38;5;21;01merr\u001b[39;00m\n",
      "\u001b[0;31mKeyboardInterrupt\u001b[0m: "
     ]
    }
   ],
   "source": [
    "long_old_set = set(long_old['file_path'])\n",
    "for i, row in long.iterrows():\n",
    "    if row['path'] not in long_old_set:\n",
    "        print(i, row['path'])"
   ]
  }
 ],
 "metadata": {
  "kernelspec": {
   "display_name": "Python 3",
   "language": "python",
   "name": "python3"
  },
  "language_info": {
   "codemirror_mode": {
    "name": "ipython",
    "version": 3
   },
   "file_extension": ".py",
   "mimetype": "text/x-python",
   "name": "python",
   "nbconvert_exporter": "python",
   "pygments_lexer": "ipython3",
   "version": "3.10.14"
  }
 },
 "nbformat": 4,
 "nbformat_minor": 2
}
