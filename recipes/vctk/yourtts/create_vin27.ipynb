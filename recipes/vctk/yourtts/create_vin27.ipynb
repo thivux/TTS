{
 "cells": [
  {
   "cell_type": "code",
   "execution_count": null,
   "metadata": {},
   "outputs": [],
   "source": [
    "import os\n",
    "import csv\n",
    "from tqdm import tqdm\n",
    "from collections import defaultdict\n",
    "\n",
    "def group_and_sort_by_speaker(input_csv, output_csv):\n",
    "    \"\"\"Groups data by speaker, calculates total duration, and sorts by duration.\n",
    "\n",
    "    Args:\n",
    "        input_csv (str): Path to the input CSV file.\n",
    "        output_csv (str): Path to the output CSV file.\n",
    "    \"\"\"\n",
    "    speaker_durations = defaultdict(float)\n",
    "\n",
    "    with open(input_csv, 'r', newline='') as infile:\n",
    "        reader = csv.DictReader(infile)\n",
    "        for row in reader:\n",
    "            speaker = row['speaker']\n",
    "            duration = float(row['duration'])\n",
    "            speaker_durations[speaker] += duration\n",
    "\n",
    "    # Sort by duration in descending order\n",
    "    sorted_durations = sorted(speaker_durations.items(), key=lambda item: item[1], reverse=True)\n",
    "\n",
    "    with open(output_csv, 'w', newline='') as outfile:\n",
    "        writer = csv.writer(outfile)\n",
    "        writer.writerow(['speaker', 'total_duration'])\n",
    "        writer.writerows(sorted_durations)\n",
    "\n",
    "if __name__ == \"__main__\":\n",
    "    region_dir = './VIN27'\n",
    "    \n",
    "    # Process each region file individually\n",
    "    for region in ['north', 'south', 'center']:\n",
    "        input_csv = os.path.join(region_dir, f\"{region}.csv\")\n",
    "        output_csv = os.path.join(region_dir, f\"sorted_{region}.csv\")\n",
    "        group_and_sort_by_speaker(input_csv, output_csv)"
   ]
  },
  {
   "cell_type": "code",
   "execution_count": null,
   "metadata": {},
   "outputs": [],
   "source": [
    "import os\n",
    "import csv\n",
    "from tqdm import tqdm\n",
    "from collections import defaultdict\n",
    "\n",
    "def get_top_speakers_for_duration(input_csv, target_duration_hours=50):\n",
    "    \"\"\"Gets the top speakers needed to exceed the target duration.\n",
    "\n",
    "    Args:\n",
    "        input_csv (str): Path to the input CSV file.\n",
    "        target_duration_hours (float): Target duration in hours.\n",
    "\n",
    "    Returns:\n",
    "        list: List of top speaker names, or None if target duration is not reached.\n",
    "    \"\"\"\n",
    "    speaker_durations = defaultdict(float)\n",
    "\n",
    "    with open(input_csv, 'r', newline='') as infile:\n",
    "        reader = csv.DictReader(infile)\n",
    "        for row in reader:\n",
    "            speaker = row['speaker']\n",
    "            duration = float(row['total_duration'])\n",
    "            speaker_durations[speaker] += duration\n",
    "\n",
    "    sorted_durations = sorted(speaker_durations.items(), key=lambda item: item[1], reverse=True)\n",
    "\n",
    "    total_duration_seconds = 0\n",
    "    top_speakers = []\n",
    "    target_duration_seconds = target_duration_hours * 3600\n",
    "\n",
    "    for speaker, duration in sorted_durations:\n",
    "        total_duration_seconds += duration\n",
    "        top_speakers.append(speaker)\n",
    "        if total_duration_seconds >= target_duration_seconds:\n",
    "            return top_speakers\n",
    "\n",
    "    return None  # Target duration not reached\n",
    "\n",
    "if __name__ == \"__main__\":\n",
    "    region_dir = './VIN27'\n",
    "\n",
    "    for region in ['north', 'south', 'center']:\n",
    "        input_csv = os.path.join(region_dir, f\"sorted_{region}.csv\")\n",
    "        top_speakers = get_top_speakers_for_duration(input_csv, target_duration_hours=40)\n",
    "\n",
    "        if top_speakers:\n",
    "            output_file = os.path.join(region_dir, f\"top_speakers_{region}.txt\")\n",
    "            with open(output_file, 'w') as f:\n",
    "                for speaker in top_speakers:\n",
    "                    f.write(f\"{speaker}\\n\")\n",
    "            print(f\"Region: {region}, Top speaker names saved to: {output_file}\")\n",
    "        else:\n",
    "            print(f\"Region: {region}, Target duration not reached with all speakers.\")"
   ]
  },
  {
   "cell_type": "code",
   "execution_count": null,
   "metadata": {},
   "outputs": [],
   "source": [
    "import os\n",
    "import csv\n",
    "import pandas as pd\n",
    "\n",
    "def get_top_speakers(input_csv, top_n=150):\n",
    "    \"\"\"Gets the top N speakers from the sorted CSV.\n",
    "\n",
    "    Args:\n",
    "        input_csv (str): Path to the input CSV file.\n",
    "        top_n (int): Number of top speakers to retrieve.\n",
    "\n",
    "    Returns:\n",
    "        list: List of top speaker names.\n",
    "    \"\"\"\n",
    "    df = pd.read_csv(input_csv)\n",
    "    top_speakers = df['speaker'].head(top_n).tolist()\n",
    "    return top_speakers\n",
    "\n",
    "if __name__ == \"__main__\":\n",
    "    region_dir = './VIN27'\n",
    "\n",
    "    for region in ['north', 'south', 'center']:\n",
    "        input_csv = os.path.join(region_dir, f\"sorted_{region}.csv\")\n",
    "        top_speakers = get_top_speakers(input_csv, top_n=150)\n",
    "\n",
    "        output_file = os.path.join(region_dir, f\"top_150_speakers_{region}.txt\")\n",
    "        with open(output_file, 'w') as f:\n",
    "            for speaker in top_speakers:\n",
    "                f.write(f\"{speaker}\\n\")\n",
    "        print(f\"Region: {region}, Top 150 speaker names saved to: {output_file}\")"
   ]
  },
  {
   "cell_type": "code",
   "execution_count": null,
   "metadata": {},
   "outputs": [],
   "source": [
    "import pandas as pd\n",
    "\n",
    "df = pd.read_csv('./VIN27/sorted_north.csv')\n",
    "df['total_duration'].head(150).sum() / 3600"
   ]
  },
  {
   "cell_type": "code",
   "execution_count": null,
   "metadata": {},
   "outputs": [],
   "source": [
    "import json\n",
    "\n",
    "with open(\"VIN27/transcription.json\", encoding='utf-8') as f:\n",
    "    transcript = json.load(f)\n",
    "\n",
    "transcript.keys()"
   ]
  },
  {
   "cell_type": "code",
   "execution_count": null,
   "metadata": {},
   "outputs": [],
   "source": [
    "transcript['vinh-long'].keys()"
   ]
  },
  {
   "cell_type": "code",
   "execution_count": null,
   "metadata": {},
   "outputs": [],
   "source": [
    "transcript['vinh-long']['3598207'].keys()"
   ]
  },
  {
   "cell_type": "code",
   "execution_count": null,
   "metadata": {},
   "outputs": [],
   "source": [
    "transcript['vinh-long']['3644732']"
   ]
  },
  {
   "cell_type": "code",
   "execution_count": null,
   "metadata": {},
   "outputs": [],
   "source": [
    "import pandas as pd\n",
    "df = pd.read_csv(\"VIN27/updated_metadata.csv\", sep='|')\n",
    "\n",
    "print(df[df['gender'] == 'MALE']['speaker'].nunique())\n",
    "print(df[df['gender'] == 'FEMALE']['speaker'].nunique())\n"
   ]
  },
  {
   "cell_type": "code",
   "execution_count": null,
   "metadata": {},
   "outputs": [],
   "source": [
    "df[df['gender'] == 'MALE']['duration'].sum() / 3600"
   ]
  },
  {
   "cell_type": "code",
   "execution_count": null,
   "metadata": {},
   "outputs": [],
   "source": [
    "df[df['gender'] == 'FEMALE']['duration'].sum() / 3600"
   ]
  },
  {
   "cell_type": "code",
   "execution_count": null,
   "metadata": {},
   "outputs": [],
   "source": [
    "df[df['region'] == 'south']['duration'].sum() / 3600"
   ]
  }
 ],
 "metadata": {
  "kernelspec": {
   "display_name": "coqui",
   "language": "python",
   "name": "python3"
  },
  "language_info": {
   "codemirror_mode": {
    "name": "ipython",
    "version": 3
   },
   "file_extension": ".py",
   "mimetype": "text/x-python",
   "name": "python",
   "nbconvert_exporter": "python",
   "pygments_lexer": "ipython3",
   "version": "3.9.19"
  }
 },
 "nbformat": 4,
 "nbformat_minor": 2
}
